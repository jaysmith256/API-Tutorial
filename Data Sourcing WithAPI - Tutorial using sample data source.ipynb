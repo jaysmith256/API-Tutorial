{
 "cells": [
  {
   "cell_type": "code",
   "execution_count": 44,
   "metadata": {},
   "outputs": [],
   "source": [
    "#step 1: start by importing the code\n",
    "import requests\n",
    "import json\n",
    "import pandas as pd\n",
    "import numpy as np\n",
    "\n",
    "\n",
    "#headers = {\n",
    "#    'Content-Type': 'application/json',\n",
    "#    'X-AUTH-TOKEN': '0FcB77kj6facD4MqnVS2qmoiTXN241C3oTJwlRU1'\n",
    "#}\n",
    "\n",
    "#url = 'https://developer.nrel.gov/api/alt-fuel-stations/v1.json'\n"
   ]
  },
  {
   "cell_type": "code",
   "execution_count": 45,
   "metadata": {},
   "outputs": [],
   "source": [
    "#step2: send a get request, get a response object\n",
    "result = requests.get('https://developer.nrel.gov/api/alt-fuel-stations/v1.json?fuel_type=E85,ELEC&state=CA&limit=2&api_key=0FcB77kj6facD4MqnVS2qmoiTXN241C3oTJwlRU1')\n",
    "\n",
    "#res = requests.get(url = url, headers = headers, verify = False)\n"
   ]
  },
  {
   "cell_type": "code",
   "execution_count": 47,
   "metadata": {},
   "outputs": [
    {
     "name": "stdout",
     "output_type": "stream",
     "text": [
      "{\n",
      "  \"error\": {\n",
      "    \"code\": \"API_KEY_MISSING\",\n",
      "    \"message\": \"No api_key was supplied. Get one at https://developer.nrel.gov/signup/\"\n",
      "  }\n",
      "}\n"
     ]
    }
   ],
   "source": [
    "print(res.text)"
   ]
  },
  {
   "cell_type": "code",
   "execution_count": 42,
   "metadata": {},
   "outputs": [
    {
     "data": {
      "text/plain": [
       "200"
      ]
     },
     "execution_count": 42,
     "metadata": {},
     "output_type": "execute_result"
    }
   ],
   "source": [
    "#step3: get the status code...returns an integer on success\n",
    "result.status_code"
   ]
  },
  {
   "cell_type": "code",
   "execution_count": 43,
   "metadata": {},
   "outputs": [
    {
     "data": {
      "text/plain": [
       "'{\"station_locator_url\":\"http://www.afdc.energy.gov/afdc/locator/stations/\",\"total_results\":7362,\"station_counts\":{\"total\":30206,\"fuels\":{\"BD\":{\"total\":0},\"E85\":{\"total\":221},\"ELEC\":{\"total\":29985,\"stations\":{\"total\":7141}},\"HY\":{\"total\":0},\"LNG\":{\"total\":0},\"CNG\":{\"total\":0},\"LPG\":{\"total\":0}}},\"fuel_stations\":[{\"access_code\":\"public\",\"access_days_time\":\"Garage business hours; pay lot\",\"access_detail_code\":null,\"cards_accepted\":null,\"date_last_confirmed\":\"2019-05-09\",\"expected_date\":null,\"fuel_type_code\":\"ELEC\",\"groups_with_access_code\":\"Public\",\"id\":1498,\"open_date\":\"2018-08-20\",\"owner_type_code\":\"LG\",\"status_code\":\"E\",\"station_name\":\"City of Sacramento - Capitol Parking Garage\",\"station_phone\":\"888-758-4389  916-264-5011\",\"updated_at\":\"2020-01-21T18:34:38Z\",\"facility_type\":\"PAY_GARAGE\",\"geocode_status\":\"GPS\",\"latitude\":38.5783802,\"longitude\":-121.4926,\"city\":\"Sacramento\",\"intersection_directions\":\"At 10th and L, 2nd Level\",\"plus4\":null,\"state\":\"CA\",\"street_address\":\"1015 L St\",\"zip\":\"95814\",\"country\":\"US\",\"bd_blends\":null,\"cng_dispenser_num\":null,\"cng_fill_type_code\":null,\"cng_psi\":null,\"cng_renewable_source\":null,\"cng_total_compression\":null,\"cng_total_storage\":null,\"cng_vehicle_class\":null,\"e85_blender_pump\":null,\"e85_other_ethanol_blends\":null,\"ev_connector_types\":[\"NEMA520\"],\"ev_dc_fast_num\":null,\"ev_level1_evse_num\":2,\"ev_level2_evse_num\":null,\"ev_network\":\"Non-Networked\",\"ev_network_web\":null,\"ev_other_evse\":\"3 SP Inductive\",\"ev_pricing\":null,\"ev_renewable_source\":null,\"hy_is_retail\":null,\"hy_pressures\":null,\"hy_standards\":null,\"hy_status_link\":null,\"lng_renewable_source\":null,\"lng_vehicle_class\":null,\"lpg_primary\":null,\"lpg_nozzle_types\":null,\"ng_fill_type_code\":null,\"ng_psi\":null,\"ng_vehicle_class\":null,\"access_days_time_fr\":null,\"intersection_directions_fr\":null,\"bd_blends_fr\":null,\"groups_with_access_code_fr\":\"Public\",\"ev_pricing_fr\":null},{\"access_code\":\"private\",\"access_days_time\":\"Fleet use only\",\"access_detail_code\":null,\"cards_accepted\":null,\"date_last_confirmed\":\"2020-01-13\",\"expected_date\":null,\"fuel_type_code\":\"ELEC\",\"groups_with_access_code\":\"Private\",\"id\":1517,\"open_date\":\"1999-10-15\",\"owner_type_code\":\"LG\",\"status_code\":\"E\",\"station_name\":\"LADWP - Truesdale Center\",\"station_phone\":null,\"updated_at\":\"2020-01-21T18:34:38Z\",\"facility_type\":\"UTILITY\",\"geocode_status\":\"GPS\",\"latitude\":34.2483191527193,\"longitude\":-118.387971374344,\"city\":\"Sun Valley\",\"intersection_directions\":null,\"plus4\":null,\"state\":\"CA\",\"street_address\":\"11797 Truesdale St\",\"zip\":\"91352\",\"country\":\"US\",\"bd_blends\":null,\"cng_dispenser_num\":null,\"cng_fill_type_code\":null,\"cng_psi\":null,\"cng_renewable_source\":null,\"cng_total_compression\":null,\"cng_total_storage\":null,\"cng_vehicle_class\":null,\"e85_blender_pump\":null,\"e85_other_ethanol_blends\":null,\"ev_connector_types\":[\"J1772\"],\"ev_dc_fast_num\":null,\"ev_level1_evse_num\":null,\"ev_level2_evse_num\":15,\"ev_network\":\"Non-Networked\",\"ev_network_web\":null,\"ev_other_evse\":null,\"ev_pricing\":null,\"ev_renewable_source\":null,\"hy_is_retail\":null,\"hy_pressures\":null,\"hy_standards\":null,\"hy_status_link\":null,\"lng_renewable_source\":null,\"lng_vehicle_class\":null,\"lpg_primary\":null,\"lpg_nozzle_types\":null,\"ng_fill_type_code\":null,\"ng_psi\":null,\"ng_vehicle_class\":null,\"access_days_time_fr\":null,\"intersection_directions_fr\":null,\"bd_blends_fr\":null,\"groups_with_access_code_fr\":\"Privé\",\"ev_pricing_fr\":null}]}'"
      ]
     },
     "execution_count": 43,
     "metadata": {},
     "output_type": "execute_result"
    }
   ],
   "source": [
    "#step4: get the data\n",
    "result.text"
   ]
  },
  {
   "cell_type": "code",
   "execution_count": 25,
   "metadata": {},
   "outputs": [
    {
     "data": {
      "text/plain": [
       "{'station_locator_url': 'http://www.afdc.energy.gov/afdc/locator/stations/',\n",
       " 'total_results': 7362,\n",
       " 'station_counts': {'total': 30206,\n",
       "  'fuels': {'BD': {'total': 0},\n",
       "   'E85': {'total': 221},\n",
       "   'ELEC': {'total': 29985, 'stations': {'total': 7141}},\n",
       "   'HY': {'total': 0},\n",
       "   'LNG': {'total': 0},\n",
       "   'CNG': {'total': 0},\n",
       "   'LPG': {'total': 0}}},\n",
       " 'fuel_stations': [{'access_code': 'public',\n",
       "   'access_days_time': 'Garage business hours; pay lot',\n",
       "   'access_detail_code': None,\n",
       "   'cards_accepted': None,\n",
       "   'date_last_confirmed': '2019-05-09',\n",
       "   'expected_date': None,\n",
       "   'fuel_type_code': 'ELEC',\n",
       "   'groups_with_access_code': 'Public',\n",
       "   'id': 1498,\n",
       "   'open_date': '2018-08-20',\n",
       "   'owner_type_code': 'LG',\n",
       "   'status_code': 'E',\n",
       "   'station_name': 'City of Sacramento - Capitol Parking Garage',\n",
       "   'station_phone': '888-758-4389  916-264-5011',\n",
       "   'updated_at': '2020-01-21T18:34:38Z',\n",
       "   'facility_type': 'PAY_GARAGE',\n",
       "   'geocode_status': 'GPS',\n",
       "   'latitude': 38.5783802,\n",
       "   'longitude': -121.4926,\n",
       "   'city': 'Sacramento',\n",
       "   'intersection_directions': 'At 10th and L, 2nd Level',\n",
       "   'plus4': None,\n",
       "   'state': 'CA',\n",
       "   'street_address': '1015 L St',\n",
       "   'zip': '95814',\n",
       "   'country': 'US',\n",
       "   'bd_blends': None,\n",
       "   'cng_dispenser_num': None,\n",
       "   'cng_fill_type_code': None,\n",
       "   'cng_psi': None,\n",
       "   'cng_renewable_source': None,\n",
       "   'cng_total_compression': None,\n",
       "   'cng_total_storage': None,\n",
       "   'cng_vehicle_class': None,\n",
       "   'e85_blender_pump': None,\n",
       "   'e85_other_ethanol_blends': None,\n",
       "   'ev_connector_types': ['NEMA520'],\n",
       "   'ev_dc_fast_num': None,\n",
       "   'ev_level1_evse_num': 2,\n",
       "   'ev_level2_evse_num': None,\n",
       "   'ev_network': 'Non-Networked',\n",
       "   'ev_network_web': None,\n",
       "   'ev_other_evse': '3 SP Inductive',\n",
       "   'ev_pricing': None,\n",
       "   'ev_renewable_source': None,\n",
       "   'hy_is_retail': None,\n",
       "   'hy_pressures': None,\n",
       "   'hy_standards': None,\n",
       "   'hy_status_link': None,\n",
       "   'lng_renewable_source': None,\n",
       "   'lng_vehicle_class': None,\n",
       "   'lpg_primary': None,\n",
       "   'lpg_nozzle_types': None,\n",
       "   'ng_fill_type_code': None,\n",
       "   'ng_psi': None,\n",
       "   'ng_vehicle_class': None,\n",
       "   'access_days_time_fr': None,\n",
       "   'intersection_directions_fr': None,\n",
       "   'bd_blends_fr': None,\n",
       "   'groups_with_access_code_fr': 'Public',\n",
       "   'ev_pricing_fr': None},\n",
       "  {'access_code': 'private',\n",
       "   'access_days_time': 'Fleet use only',\n",
       "   'access_detail_code': None,\n",
       "   'cards_accepted': None,\n",
       "   'date_last_confirmed': '2020-01-13',\n",
       "   'expected_date': None,\n",
       "   'fuel_type_code': 'ELEC',\n",
       "   'groups_with_access_code': 'Private',\n",
       "   'id': 1517,\n",
       "   'open_date': '1999-10-15',\n",
       "   'owner_type_code': 'LG',\n",
       "   'status_code': 'E',\n",
       "   'station_name': 'LADWP - Truesdale Center',\n",
       "   'station_phone': None,\n",
       "   'updated_at': '2020-01-21T18:34:38Z',\n",
       "   'facility_type': 'UTILITY',\n",
       "   'geocode_status': 'GPS',\n",
       "   'latitude': 34.2483191527193,\n",
       "   'longitude': -118.387971374344,\n",
       "   'city': 'Sun Valley',\n",
       "   'intersection_directions': None,\n",
       "   'plus4': None,\n",
       "   'state': 'CA',\n",
       "   'street_address': '11797 Truesdale St',\n",
       "   'zip': '91352',\n",
       "   'country': 'US',\n",
       "   'bd_blends': None,\n",
       "   'cng_dispenser_num': None,\n",
       "   'cng_fill_type_code': None,\n",
       "   'cng_psi': None,\n",
       "   'cng_renewable_source': None,\n",
       "   'cng_total_compression': None,\n",
       "   'cng_total_storage': None,\n",
       "   'cng_vehicle_class': None,\n",
       "   'e85_blender_pump': None,\n",
       "   'e85_other_ethanol_blends': None,\n",
       "   'ev_connector_types': ['J1772'],\n",
       "   'ev_dc_fast_num': None,\n",
       "   'ev_level1_evse_num': None,\n",
       "   'ev_level2_evse_num': 15,\n",
       "   'ev_network': 'Non-Networked',\n",
       "   'ev_network_web': None,\n",
       "   'ev_other_evse': None,\n",
       "   'ev_pricing': None,\n",
       "   'ev_renewable_source': None,\n",
       "   'hy_is_retail': None,\n",
       "   'hy_pressures': None,\n",
       "   'hy_standards': None,\n",
       "   'hy_status_link': None,\n",
       "   'lng_renewable_source': None,\n",
       "   'lng_vehicle_class': None,\n",
       "   'lpg_primary': None,\n",
       "   'lpg_nozzle_types': None,\n",
       "   'ng_fill_type_code': None,\n",
       "   'ng_psi': None,\n",
       "   'ng_vehicle_class': None,\n",
       "   'access_days_time_fr': None,\n",
       "   'intersection_directions_fr': None,\n",
       "   'bd_blends_fr': None,\n",
       "   'groups_with_access_code_fr': 'Privé',\n",
       "   'ev_pricing_fr': None}]}"
      ]
     },
     "execution_count": 25,
     "metadata": {},
     "output_type": "execute_result"
    }
   ],
   "source": [
    "#step5: get data in a more readable json format\n",
    "result.json()"
   ]
  },
  {
   "cell_type": "code",
   "execution_count": 51,
   "metadata": {},
   "outputs": [],
   "source": [
    "full_data = result.json()"
   ]
  }
 ],
 "metadata": {
  "kernelspec": {
   "display_name": "Python 3",
   "language": "python",
   "name": "python3"
  },
  "language_info": {
   "codemirror_mode": {
    "name": "ipython",
    "version": 3
   },
   "file_extension": ".py",
   "mimetype": "text/x-python",
   "name": "python",
   "nbconvert_exporter": "python",
   "pygments_lexer": "ipython3",
   "version": "3.7.6"
  }
 },
 "nbformat": 4,
 "nbformat_minor": 4
}
